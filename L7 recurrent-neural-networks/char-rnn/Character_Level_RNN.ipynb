{
 "cells": [
  {
   "cell_type": "markdown",
   "metadata": {
    "colab_type": "text",
    "id": "hk1SLPdDX--v"
   },
   "source": [
    "# Character-Level LSTM in PyTorch\n",
    "\n",
    "In this notebook, I'll construct a character-level LSTM with PyTorch. The network will train character by character on some text, then generate new text character by character. As an example, I will train on Anna Karenina. **This model will be able to generate new text based on the text from the book!**\n",
    "\n",
    "This network is based off of Andrej Karpathy's [post on RNNs](http://karpathy.github.io/2015/05/21/rnn-effectiveness/) and [implementation in Torch](https://github.com/karpathy/char-rnn). Below is the general architecture of the character-wise RNN.\n",
    "\n",
    "<img src=\"assets/charseq.jpeg\" width=\"500\">"
   ]
  },
  {
   "cell_type": "markdown",
   "metadata": {
    "colab_type": "text",
    "id": "RaiS79SYkn6N"
   },
   "source": [
    "# Character-Level LSTM in PyTorch\n",
    "\n",
    "In this notebook, I'll construct a character-level LSTM with PyTorch. The network will train character by character on some text, then generate new text character by character. As an example, I will train on Anna Karenina. **This model will be able to generate new text based on the text from the book!**\n",
    "\n",
    "This network is based off of Andrej Karpathy's [post on RNNs](http://karpathy.github.io/2015/05/21/rnn-effectiveness/) and [implementation in Torch](https://github.com/karpathy/char-rnn). Below is the general architecture of the character-wise RNN.\n",
    "\n",
    "<img src=\"charseq.jpeg\" width=\"500\">"
   ]
  },
  {
   "cell_type": "markdown",
   "metadata": {
    "colab_type": "text",
    "id": "5pKrXxZMX-_G"
   },
   "source": [
    "First let's load in our required resources for data loading and model creation."
   ]
  },
  {
   "cell_type": "code",
   "execution_count": 0,
   "metadata": {
    "colab": {},
    "colab_type": "code",
    "id": "_2D6SoRlX-_K"
   },
   "outputs": [],
   "source": [
    "import numpy as np\n",
    "import torch\n",
    "from torch import nn\n",
    "import torch.nn.functional as F"
   ]
  },
  {
   "cell_type": "markdown",
   "metadata": {
    "colab_type": "text",
    "id": "QaRYCi_MX-_h"
   },
   "source": [
    "## Load in Data\n",
    "\n",
    "Then, we'll load the Anna Karenina text file and convert it into integers for our network to use. "
   ]
  },
  {
   "cell_type": "code",
   "execution_count": 0,
   "metadata": {
    "colab": {},
    "colab_type": "code",
    "id": "i_8CXRW-X-_m"
   },
   "outputs": [],
   "source": [
    "# open text file and read in data as `text`\n",
    "#with open('data/anna.txt', 'r') as f:\n",
    "#    text = f.read()\n",
    "with open('anna.txt', 'r') as f:\n",
    "  text = f.read()"
   ]
  },
  {
   "cell_type": "markdown",
   "metadata": {
    "colab_type": "text",
    "id": "pBKRmQcsX_BP"
   },
   "source": [
    "Let's check out the first 100 characters, make sure everything is peachy. According to the [American Book Review](http://americanbookreview.org/100bestlines.asp), this is the 6th best first line of a book ever."
   ]
  },
  {
   "cell_type": "code",
   "execution_count": 6,
   "metadata": {
    "colab": {
     "base_uri": "https://localhost:8080/",
     "height": 34
    },
    "colab_type": "code",
    "executionInfo": {
     "elapsed": 1763,
     "status": "ok",
     "timestamp": 1548584279258,
     "user": {
      "displayName": "Akah Uchechi",
      "photoUrl": "",
      "userId": "10244832384016931906"
     },
     "user_tz": -60
    },
    "id": "NnaRB2QlX_BW",
    "outputId": "64734b56-1760-463d-9d19-9c7025c72523"
   },
   "outputs": [
    {
     "data": {
      "text/plain": [
       "'Chapter 1\\n\\n\\nHappy families are all alike; every unhappy family is unhappy in its own\\nway.\\n\\nEverythin'"
      ]
     },
     "execution_count": 6,
     "metadata": {
      "tags": []
     },
     "output_type": "execute_result"
    }
   ],
   "source": [
    "text[:100]"
   ]
  },
  {
   "cell_type": "markdown",
   "metadata": {
    "colab_type": "text",
    "id": "2jIWAuSQX_B_"
   },
   "source": [
    "### Tokenization\n",
    "\n",
    "In the cells, below, I'm creating a couple **dictionaries** to convert the characters to and from integers. Encoding the characters as integers makes it easier to use as input in the network."
   ]
  },
  {
   "cell_type": "code",
   "execution_count": 0,
   "metadata": {
    "colab": {},
    "colab_type": "code",
    "id": "pwY2TAaYX_CC"
   },
   "outputs": [],
   "source": [
    "# encode the text and map each character to an integer and vice versa\n",
    "\n",
    "# we create two dictionaries:\n",
    "# 1. int2char, which maps integers to characters\n",
    "# 2. char2int, which maps characters to unique integers\n",
    "chars = tuple(set(text))\n",
    "int2char = dict(enumerate(chars))\n",
    "char2int = {ch: ii for ii, ch in int2char.items()}\n",
    "\n",
    "# encode the text\n",
    "encoded = np.array([char2int[ch] for ch in text])"
   ]
  },
  {
   "cell_type": "code",
   "execution_count": 8,
   "metadata": {
    "colab": {
     "base_uri": "https://localhost:8080/",
     "height": 34
    },
    "colab_type": "code",
    "executionInfo": {
     "elapsed": 2169,
     "status": "ok",
     "timestamp": 1548584291382,
     "user": {
      "displayName": "Akah Uchechi",
      "photoUrl": "",
      "userId": "10244832384016931906"
     },
     "user_tz": -60
    },
    "id": "Tudnbuq0jdvw",
    "outputId": "fd7f57d2-6eeb-454a-bfcd-9b1e2365cbed"
   },
   "outputs": [
    {
     "data": {
      "text/plain": [
       "82"
      ]
     },
     "execution_count": 8,
     "metadata": {
      "tags": []
     },
     "output_type": "execute_result"
    }
   ],
   "source": [
    "max(int2char.keys())"
   ]
  },
  {
   "cell_type": "markdown",
   "metadata": {
    "colab_type": "text",
    "id": "NvV44GdhX_CY"
   },
   "source": [
    "And we can see those same characters from above, encoded as integers."
   ]
  },
  {
   "cell_type": "code",
   "execution_count": 10,
   "metadata": {
    "colab": {
     "base_uri": "https://localhost:8080/",
     "height": 34
    },
    "colab_type": "code",
    "executionInfo": {
     "elapsed": 1206,
     "status": "ok",
     "timestamp": 1548584315014,
     "user": {
      "displayName": "Akah Uchechi",
      "photoUrl": "",
      "userId": "10244832384016931906"
     },
     "user_tz": -60
    },
    "id": "1qoDhLGm0CsJ",
    "outputId": "dd8a339b-e3f8-46a1-83e3-6e20c707759e"
   },
   "outputs": [
    {
     "data": {
      "text/plain": [
       "1985223"
      ]
     },
     "execution_count": 10,
     "metadata": {
      "tags": []
     },
     "output_type": "execute_result"
    }
   ],
   "source": [
    "encoded.shape[0]"
   ]
  },
  {
   "cell_type": "code",
   "execution_count": 12,
   "metadata": {
    "colab": {
     "base_uri": "https://localhost:8080/",
     "height": 118
    },
    "colab_type": "code",
    "executionInfo": {
     "elapsed": 1630,
     "status": "ok",
     "timestamp": 1548584322443,
     "user": {
      "displayName": "Akah Uchechi",
      "photoUrl": "",
      "userId": "10244832384016931906"
     },
     "user_tz": -60
    },
    "id": "TE0WDJPTX_Cg",
    "outputId": "9634bbc3-fd29-4c94-f85c-f9d10b425a87"
   },
   "outputs": [
    {
     "data": {
      "text/plain": [
       "array([ 0, 10, 38, 63, 35, 62, 82, 16, 61, 26, 26, 26, 31, 38, 63, 63, 65,\n",
       "       16, 21, 38, 67, 43, 68, 43, 62, 57, 16, 38, 82, 62, 16, 38, 68, 68,\n",
       "       16, 38, 68, 43, 14, 62, 55, 16, 62,  7, 62, 82, 65, 16, 79, 60, 10,\n",
       "       38, 63, 63, 65, 16, 21, 38, 67, 43, 68, 65, 16, 43, 57, 16, 79, 60,\n",
       "       10, 38, 63, 63, 65, 16, 43, 60, 16, 43, 35, 57, 16, 73, 70, 60, 26,\n",
       "       70, 38, 65, 71, 26, 26, 64,  7, 62, 82, 65, 35, 10, 43, 60])"
      ]
     },
     "execution_count": 12,
     "metadata": {
      "tags": []
     },
     "output_type": "execute_result"
    }
   ],
   "source": [
    "encoded[:100]"
   ]
  },
  {
   "cell_type": "markdown",
   "metadata": {
    "colab_type": "text",
    "id": "xrba7y-dX_C9"
   },
   "source": [
    "## Pre-processing the data\n",
    "\n",
    "As you can see in our char-RNN image above, our LSTM expects an input that is **one-hot encoded** meaning that each character is converted into an integer (via our created dictionary) and *then* converted into a column vector where only it's corresponding integer index will have the value of 1 and the rest of the vector will be filled with 0's. Since we're one-hot encoding the data, let's make a function to do that!\n"
   ]
  },
  {
   "cell_type": "code",
   "execution_count": 0,
   "metadata": {
    "colab": {},
    "colab_type": "code",
    "id": "UpkcrsqFX_DU"
   },
   "outputs": [],
   "source": [
    "def one_hot_encode(arr, n_labels):\n",
    "    \n",
    "    # Initialize the the encoded array\n",
    "    one_hot = np.zeros((np.multiply(*arr.shape), n_labels), dtype=np.float32)\n",
    "    \n",
    "    # Fill the appropriate elements with ones\n",
    "    one_hot[np.arange(one_hot.shape[0]), arr.flatten()] = 1.\n",
    "    \n",
    "    # Finally reshape it to get back to the original array\n",
    "    one_hot = one_hot.reshape((*arr.shape, n_labels))\n",
    "    \n",
    "    return one_hot"
   ]
  },
  {
   "cell_type": "code",
   "execution_count": 14,
   "metadata": {
    "colab": {
     "base_uri": "https://localhost:8080/",
     "height": 67
    },
    "colab_type": "code",
    "executionInfo": {
     "elapsed": 1214,
     "status": "ok",
     "timestamp": 1548584338048,
     "user": {
      "displayName": "Akah Uchechi",
      "photoUrl": "",
      "userId": "10244832384016931906"
     },
     "user_tz": -60
    },
    "id": "xmT9L94DX_FV",
    "outputId": "da4609dd-6ecf-4dd5-d921-2aff6762dea1"
   },
   "outputs": [
    {
     "name": "stdout",
     "output_type": "stream",
     "text": [
      "[[[0. 0. 0. 1. 0. 0. 0. 0.]\n",
      "  [0. 0. 0. 0. 0. 1. 0. 0.]\n",
      "  [0. 1. 0. 0. 0. 0. 0. 0.]]]\n"
     ]
    }
   ],
   "source": [
    "# check that the function works as expected\n",
    "test_seq = np.array([[3, 5, 1]])\n",
    "one_hot = one_hot_encode(test_seq, 8)\n",
    "\n",
    "print(one_hot)"
   ]
  },
  {
   "cell_type": "markdown",
   "metadata": {
    "colab_type": "text",
    "id": "lOsut266X_Gf"
   },
   "source": [
    "## Making training mini-batches\n",
    "\n",
    "\n",
    "To train on this data, we also want to create mini-batches for training. Remember that we want our batches to be multiple sequences of some desired number of sequence steps. Considering a simple example, our batches would look like this:\n",
    "\n",
    "<img src=\"assets/sequence_batching@1x.png\" width=500px>\n",
    "\n",
    "\n",
    "<br>\n",
    "\n",
    "In this example, we'll take the encoded characters (passed in as the `arr` parameter) and split them into multiple sequences, given by `batch_size`. Each of our sequences will be `seq_length` long.\n",
    "\n",
    "### Creating Batches\n",
    "\n",
    "**1. The first thing we need to do is discard some of the text so we only have completely full mini-batches. **\n",
    "\n",
    "Each batch contains $N \\times M$ characters, where $N$ is the batch size (the number of sequences in a batch) and $M$ is the seq_length or number of time steps in a sequence. Then, to get the total number of batches, $K$, that we can make from the array `arr`, you divide the length of `arr` by the number of characters per batch. Once you know the number of batches, you can get the total number of characters to keep from `arr`, $N * M * K$.\n",
    "\n",
    "**2. After that, we need to split `arr` into $N$ batches. ** \n",
    "\n",
    "You can do this using `arr.reshape(size)` where `size` is a tuple containing the dimensions sizes of the reshaped array. We know we want $N$ sequences in a batch, so let's make that the size of the first dimension. For the second dimension, you can use `-1` as a placeholder in the size, it'll fill up the array with the appropriate data for you. After this, you should have an array that is $N \\times (M * K)$.\n",
    "\n",
    "**3. Now that we have this array, we can iterate through it to get our mini-batches. **\n",
    "\n",
    "The idea is each batch is a $N \\times M$ window on the $N \\times (M * K)$ array. For each subsequent batch, the window moves over by `seq_length`. We also want to create both the input and target arrays. Remember that the targets are just the inputs shifted over by one character. The way I like to do this window is use `range` to take steps of size `n_steps` from $0$ to `arr.shape[1]`, the total number of tokens in each sequence. That way, the integers you get from `range` always point to the start of a batch, and each window is `seq_length` wide.\n",
    "\n",
    "> **TODO:** Write the code for creating batches in the function below. The exercises in this notebook _will not be easy_. I've provided a notebook with solutions alongside this notebook. If you get stuck, checkout the solutions. The most important thing is that you don't copy and paste the code into here, **type out the solution code yourself.**"
   ]
  },
  {
   "cell_type": "code",
   "execution_count": 0,
   "metadata": {
    "colab": {},
    "colab_type": "code",
    "id": "DUW8zfv-X_Gl"
   },
   "outputs": [],
   "source": [
    "def get_batches(arr, batch_size, seq_length):\n",
    "    '''Create a generator that returns batches of size\n",
    "       batch_size x seq_length from arr.\n",
    "       \n",
    "       Arguments\n",
    "       ---------\n",
    "       arr: Array you want to make batches from\n",
    "       batch_size: Batch size, the number of sequences per batch\n",
    "       seq_length: Number of encoded chars in a sequence\n",
    "    '''\n",
    "    \n",
    "    ## TODO: Get the number of batches we can make\n",
    "    n_batches = arr.shape[0] // (batch_size * seq_length)\n",
    "    \n",
    "    ## TODO: Keep only enough characters to make full batches\n",
    "    arr = arr[: (batch_size*seq_length*n_batches)]\n",
    "    #print(arr.shape)\n",
    "    ## TODO: Reshape into batch_size rows\n",
    "    arr = arr.reshape(batch_size,-1)\n",
    "    #print(arr.shape)\n",
    "    ## TODO: Iterate over the batches using a window of size seq_length\n",
    "    for n in range(0, arr.shape[1], seq_length):\n",
    "        # The features\n",
    "        x = arr[:, n:n+seq_length]\n",
    "        # The targets, shifted by one\n",
    "        y = np.zeros_like(x)\n",
    "        try:\n",
    "            y[:, :-1], y[:, -1] = x[:, 1:], arr[:, n+seq_length]\n",
    "        except IndexError:\n",
    "            y[:, :-1], y[:, -1] = x[:, 1:], arr[:, 0]\n",
    "        yield x, y"
   ]
  },
  {
   "cell_type": "markdown",
   "metadata": {
    "colab_type": "text",
    "id": "tmmbuIvlX_HA"
   },
   "source": [
    "### Test Your Implementation\n",
    "\n",
    "Now I'll make some data sets and we can check out what's going on as we batch data. Here, as an example, I'm going to use a batch size of 8 and 50 sequence steps."
   ]
  },
  {
   "cell_type": "code",
   "execution_count": 0,
   "metadata": {
    "colab": {},
    "colab_type": "code",
    "id": "fCBKaswrX_HK"
   },
   "outputs": [],
   "source": [
    "batches = get_batches(encoded, 8, 50)\n",
    "x, y = next(batches)"
   ]
  },
  {
   "cell_type": "code",
   "execution_count": 17,
   "metadata": {
    "colab": {
     "base_uri": "https://localhost:8080/",
     "height": 336
    },
    "colab_type": "code",
    "executionInfo": {
     "elapsed": 1496,
     "status": "ok",
     "timestamp": 1548584369193,
     "user": {
      "displayName": "Akah Uchechi",
      "photoUrl": "",
      "userId": "10244832384016931906"
     },
     "user_tz": -60
    },
    "id": "tJHmyPpsX_Hp",
    "outputId": "a0bb02b3-e615-4b88-9e26-92704d97a830"
   },
   "outputs": [
    {
     "name": "stdout",
     "output_type": "stream",
     "text": [
      "x\n",
      " [[ 0 10 38 63 35 62 82 16 61 26]\n",
      " [57 73 60 16 35 10 38 35 16 38]\n",
      " [62 60 29 16 73 82 16 38 16 21]\n",
      " [57 16 35 10 62 16 74 10 43 62]\n",
      " [16 57 38 70 16 10 62 82 16 35]\n",
      " [74 79 57 57 43 73 60 16 38 60]\n",
      " [16 34 60 60 38 16 10 38 29 16]\n",
      " [72 12 68 73 60 57 14 65 71 16]]\n",
      "\n",
      "y\n",
      " [[10 38 63 35 62 82 16 61 26 26]\n",
      " [73 60 16 35 10 38 35 16 38 35]\n",
      " [60 29 16 73 82 16 38 16 21 73]\n",
      " [16 35 10 62 16 74 10 43 62 21]\n",
      " [57 38 70 16 10 62 82 16 35 62]\n",
      " [79 57 57 43 73 60 16 38 60 29]\n",
      " [34 60 60 38 16 10 38 29 16 57]\n",
      " [12 68 73 60 57 14 65 71 16 81]]\n"
     ]
    }
   ],
   "source": [
    "# printing out the first 10 items in a sequence\n",
    "print('x\\n', x[:10, :10])\n",
    "print('\\ny\\n', y[:10, :10])"
   ]
  },
  {
   "cell_type": "markdown",
   "metadata": {
    "colab_type": "text",
    "id": "HdJKRoD3X_IZ"
   },
   "source": [
    "If you implemented `get_batches` correctly, the above output should look something like \n",
    "```\n",
    "x\n",
    " [[25  8 60 11 45 27 28 73  1  2]\n",
    " [17  7 20 73 45  8 60 45 73 60]\n",
    " [27 20 80 73  7 28 73 60 73 65]\n",
    " [17 73 45  8 27 73 66  8 46 27]\n",
    " [73 17 60 12 73  8 27 28 73 45]\n",
    " [66 64 17 17 46  7 20 73 60 20]\n",
    " [73 76 20 20 60 73  8 60 80 73]\n",
    " [47 35 43  7 20 17 24 50 37 73]]\n",
    "\n",
    "y\n",
    " [[ 8 60 11 45 27 28 73  1  2  2]\n",
    " [ 7 20 73 45  8 60 45 73 60 45]\n",
    " [20 80 73  7 28 73 60 73 65  7]\n",
    " [73 45  8 27 73 66  8 46 27 65]\n",
    " [17 60 12 73  8 27 28 73 45 27]\n",
    " [64 17 17 46  7 20 73 60 20 80]\n",
    " [76 20 20 60 73  8 60 80 73 17]\n",
    " [35 43  7 20 17 24 50 37 73 36]]\n",
    " ```\n",
    " although the exact numbers may be different. Check to make sure the data is shifted over one step for `y`."
   ]
  },
  {
   "cell_type": "markdown",
   "metadata": {
    "colab_type": "text",
    "id": "_yuE53UKX_Ik"
   },
   "source": [
    "---\n",
    "## Defining the network with PyTorch\n",
    "\n",
    "Below is where you'll define the network.\n",
    "\n",
    "<img src=\"assets/charRNN.png\" width=500px>\n",
    "\n",
    "Next, you'll use PyTorch to define the architecture of the network. We start by defining the layers and operations we want. Then, define a method for the forward pass. You've also been given a method for predicting characters."
   ]
  },
  {
   "cell_type": "markdown",
   "metadata": {
    "colab_type": "text",
    "id": "34XfF8g6X_Iy"
   },
   "source": [
    "### Model Structure\n",
    "\n",
    "In `__init__` the suggested structure is as follows:\n",
    "* Create and store the necessary dictionaries (this has been done for you)\n",
    "* Define an LSTM layer that takes as params: an input size (the number of characters), a hidden layer size `n_hidden`, a number of layers `n_layers`, a dropout probability `drop_prob`, and a batch_first boolean (True, since we are batching)\n",
    "* Define a dropout layer with `dropout_prob`\n",
    "* Define a fully-connected layer with params: input size `n_hidden` and output size (the number of characters)\n",
    "* Finally, initialize the weights (again, this has been given)\n",
    "\n",
    "Note that some parameters have been named and given in the `__init__` function, and we use them and store them by doing something like `self.drop_prob = drop_prob`."
   ]
  },
  {
   "cell_type": "markdown",
   "metadata": {
    "colab_type": "text",
    "id": "BB426fGaX_JG"
   },
   "source": [
    "---\n",
    "### LSTM Inputs/Outputs\n",
    "\n",
    "You can create a basic [LSTM layer](https://pytorch.org/docs/stable/nn.html#lstm) as follows\n",
    "\n",
    "```python\n",
    "self.lstm = nn.LSTM(input_size, n_hidden, n_layers, \n",
    "                            dropout=drop_prob, batch_first=True)\n",
    "```\n",
    "\n",
    "where `input_size` is the number of characters this cell expects to see as sequential input, and `n_hidden` is the number of units in the hidden layers in the cell. And we can add dropout by adding a dropout parameter with a specified probability; this will automatically add dropout to the inputs or outputs. Finally, in the `forward` function, we can stack up the LSTM cells into layers using `.view`. With this, you pass in a list of cells and it will send the output of one cell into the next cell.\n",
    "\n",
    "We also need to create an initial hidden state of all zeros. This is done like so\n",
    "\n",
    "```python\n",
    "self.init_hidden()\n",
    "```"
   ]
  },
  {
   "cell_type": "code",
   "execution_count": 18,
   "metadata": {
    "colab": {
     "base_uri": "https://localhost:8080/",
     "height": 34
    },
    "colab_type": "code",
    "executionInfo": {
     "elapsed": 1919,
     "status": "ok",
     "timestamp": 1548584381333,
     "user": {
      "displayName": "Akah Uchechi",
      "photoUrl": "",
      "userId": "10244832384016931906"
     },
     "user_tz": -60
    },
    "id": "ZGkKEb1WX_JP",
    "outputId": "75807d72-872e-439d-d773-b317d5348545"
   },
   "outputs": [
    {
     "name": "stdout",
     "output_type": "stream",
     "text": [
      "Training on GPU!\n"
     ]
    }
   ],
   "source": [
    "# check if GPU is available\n",
    "train_on_gpu = torch.cuda.is_available()\n",
    "if(train_on_gpu):\n",
    "    print('Training on GPU!')\n",
    "else: \n",
    "    print('No GPU available, training on CPU; consider making n_epochs very small.')"
   ]
  },
  {
   "cell_type": "code",
   "execution_count": 0,
   "metadata": {
    "colab": {},
    "colab_type": "code",
    "id": "XZKcIYLtX_Jr"
   },
   "outputs": [],
   "source": [
    "class CharRNN(nn.Module):\n",
    "    \n",
    "    def __init__(self, tokens, n_hidden=256, n_layers=2,\n",
    "                               drop_prob=0.5, lr=0.001):\n",
    "        super().__init__()\n",
    "        self.drop_prob = drop_prob\n",
    "        self.n_layers = n_layers\n",
    "        self.n_hidden = n_hidden\n",
    "        self.lr = lr\n",
    "        \n",
    "        # creating character dictionaries\n",
    "        self.chars = tokens\n",
    "        self.int2char = dict(enumerate(self.chars))\n",
    "        self.char2int = {ch: ii for ii, ch in self.int2char.items()}\n",
    "        \n",
    "        ## TODO: define the layers of the model\n",
    "        self.lstm= nn.LSTM(len(self.chars), self.n_hidden, self.n_layers, dropout = self.drop_prob, batch_first = True )\n",
    "        self.fc1 = nn.Linear(self.n_hidden, len(self.chars))\n",
    "        self.dropout = nn.Dropout(drop_prob)\n",
    "        \n",
    "    def forward(self, x, hidden):\n",
    "        ''' Forward pass through the network. \n",
    "            These inputs are x, and the hidden/cell state `hidden`. '''\n",
    "                \n",
    "        ## TODO: Get the outputs and the new hidden state from the lstm\n",
    "        batch_size = x.size(0)\n",
    "        out, hidden = self.lstm(x, hidden)\n",
    "        out = self.dropout(out)\n",
    "        out = out.contiguous().view(-1, self.n_hidden)\n",
    "        out = self.fc1(out)\n",
    "        # return the final output and the hidden state\n",
    "        return out, hidden\n",
    "    \n",
    "    \n",
    "    def init_hidden(self, batch_size):\n",
    "        ''' Initializes hidden state '''\n",
    "        # Create two new tensors with sizes n_layers x batch_size x n_hidden,\n",
    "        # initialized to zero, for hidden state and cell state of LSTM\n",
    "        weight = next(self.parameters()).data\n",
    "        \n",
    "        if (train_on_gpu):\n",
    "            hidden = (weight.new(self.n_layers, batch_size, self.n_hidden).zero_().cuda(),\n",
    "                  weight.new(self.n_layers, batch_size, self.n_hidden).zero_().cuda())\n",
    "        else:\n",
    "            hidden = (weight.new(self.n_layers, batch_size, self.n_hidden).zero_(),\n",
    "                      weight.new(self.n_layers, batch_size, self.n_hidden).zero_())\n",
    "        \n",
    "        return hidden\n",
    "        "
   ]
  },
  {
   "cell_type": "markdown",
   "metadata": {
    "colab_type": "text",
    "id": "ScqW5FBHX_Ka"
   },
   "source": [
    "## Time to train\n",
    "\n",
    "The train function gives us the ability to set the number of epochs, the learning rate, and other parameters.\n",
    "\n",
    "Below we're using an Adam optimizer and cross entropy loss since we are looking at character class scores as output. We calculate the loss and perform backpropagation, as usual!\n",
    "\n",
    "A couple of details about training: \n",
    ">* Within the batch loop, we detach the hidden state from its history; this time setting it equal to a new *tuple* variable because an LSTM has a hidden state that is a tuple of the hidden and cell states.\n",
    "* We use [`clip_grad_norm_`](https://pytorch.org/docs/stable/_modules/torch/nn/utils/clip_grad.html) to help prevent exploding gradients."
   ]
  },
  {
   "cell_type": "code",
   "execution_count": 0,
   "metadata": {
    "colab": {},
    "colab_type": "code",
    "id": "Qp50cbtDX_K1"
   },
   "outputs": [],
   "source": [
    "def train(net, data, epochs=10, batch_size=10, seq_length=50, lr=0.001, clip=5, val_frac=0.1, print_every=10):\n",
    "    ''' Training a network \n",
    "    \n",
    "        Arguments\n",
    "        ---------\n",
    "        \n",
    "        net: CharRNN network\n",
    "        data: text data to train the network\n",
    "        epochs: Number of epochs to train\n",
    "        batch_size: Number of mini-sequences per mini-batch, aka batch size\n",
    "        seq_length: Number of character steps per mini-batch\n",
    "        lr: learning rate\n",
    "        clip: gradient clipping\n",
    "        val_frac: Fraction of data to hold out for validation\n",
    "        print_every: Number of steps for printing training and validation loss\n",
    "    \n",
    "    '''\n",
    "    net.train()\n",
    "    \n",
    "    opt = torch.optim.Adam(net.parameters(), lr=lr)\n",
    "    criterion = nn.CrossEntropyLoss()\n",
    "    \n",
    "    # create training and validation data\n",
    "    val_idx = int(len(data)*(1-val_frac))\n",
    "    data, val_data = data[:val_idx], data[val_idx:]\n",
    "    \n",
    "    if(train_on_gpu):\n",
    "        net.cuda()\n",
    "    \n",
    "    counter = 0\n",
    "    n_chars = len(net.chars)\n",
    "    for e in range(epochs):\n",
    "        # initialize hidden state\n",
    "        h = net.init_hidden(batch_size)\n",
    "        \n",
    "        for x, y in get_batches(data, batch_size, seq_length):\n",
    "            counter += 1\n",
    "            \n",
    "            # One-hot encode our data and make them Torch tensors\n",
    "            x = one_hot_encode(x, n_chars)\n",
    "            inputs, targets = torch.from_numpy(x), torch.from_numpy(y)\n",
    "            \n",
    "            if(train_on_gpu):\n",
    "                inputs, targets = inputs.cuda(), targets.cuda()\n",
    "\n",
    "            # Creating new variables for the hidden state, otherwise\n",
    "            # we'd backprop through the entire training history\n",
    "            h = tuple([each.data for each in h])\n",
    "\n",
    "            # zero accumulated gradients\n",
    "            net.zero_grad()\n",
    "\n",
    "            # get the output from the model\n",
    "            output, h = net(inputs, h)\n",
    "            \n",
    "            # calculate the loss and perform backprop\n",
    "            loss = criterion(output, targets.view(batch_size*seq_length))\n",
    "            loss.backward()\n",
    "            # `clip_grad_norm` helps prevent the exploding gradient problem in RNNs / LSTMs.\n",
    "            nn.utils.clip_grad_norm_(net.parameters(), clip)\n",
    "            opt.step()\n",
    "            \n",
    "            # loss stats\n",
    "            if counter % print_every == 0:\n",
    "                # Get validation loss\n",
    "                print(\"{}\\t{}\".format(inputs.shape, len(h)) )\n",
    "                val_h = net.init_hidden(batch_size)\n",
    "                val_losses = []\n",
    "                net.eval()\n",
    "                for x, y in get_batches(val_data, batch_size, seq_length):\n",
    "                    # One-hot encode our data and make them Torch tensors\n",
    "                    x = one_hot_encode(x, n_chars)\n",
    "                    x, y = torch.from_numpy(x), torch.from_numpy(y)\n",
    "                    \n",
    "                    # Creating new variables for the hidden state, otherwise\n",
    "                    # we'd backprop through the entire training history\n",
    "                    val_h = tuple([each.data for each in val_h])\n",
    "                    \n",
    "                    inputs, targets = x, y\n",
    "                    if(train_on_gpu):\n",
    "                        inputs, targets = inputs.cuda(), targets.cuda()\n",
    "\n",
    "                    output, val_h = net(inputs, val_h)\n",
    "                    val_loss = criterion(output, targets.view(batch_size*seq_length))\n",
    "                \n",
    "                    val_losses.append(val_loss.item())\n",
    "                \n",
    "                net.train() # reset to train mode after iterationg through validation data\n",
    "                \n",
    "                print(\"Epoch: {}/{}...\".format(e+1, epochs),\n",
    "                      \"Step: {}...\".format(counter),\n",
    "                      \"Loss: {:.4f}...\".format(loss.item()),\n",
    "                      \"Val Loss: {:.4f}\".format(np.mean(val_losses)))"
   ]
  },
  {
   "cell_type": "markdown",
   "metadata": {
    "colab_type": "text",
    "id": "Lx9s97TvX_Lk"
   },
   "source": [
    "## Instantiating the model\n",
    "\n",
    "Now we can actually train the network. First we'll create the network itself, with some given hyperparameters. Then, define the mini-batches sizes, and start training!"
   ]
  },
  {
   "cell_type": "code",
   "execution_count": 21,
   "metadata": {
    "colab": {
     "base_uri": "https://localhost:8080/",
     "height": 101
    },
    "colab_type": "code",
    "executionInfo": {
     "elapsed": 1115,
     "status": "ok",
     "timestamp": 1548584414289,
     "user": {
      "displayName": "Akah Uchechi",
      "photoUrl": "",
      "userId": "10244832384016931906"
     },
     "user_tz": -60
    },
    "id": "c6cITzozX_MA",
    "outputId": "b023f07d-1c77-46f9-dcd3-babaecb7313a"
   },
   "outputs": [
    {
     "name": "stdout",
     "output_type": "stream",
     "text": [
      "CharRNN(\n",
      "  (lstm): LSTM(83, 512, num_layers=3, batch_first=True, dropout=0.5)\n",
      "  (fc1): Linear(in_features=512, out_features=83, bias=True)\n",
      "  (dropout): Dropout(p=0.5)\n",
      ")\n"
     ]
    }
   ],
   "source": [
    "## TODO: set you model hyperparameters\n",
    "# define and print the net\n",
    "n_hidden=512\n",
    "n_layers=3\n",
    "\n",
    "net = CharRNN(chars, n_hidden, n_layers)\n",
    "print(net)"
   ]
  },
  {
   "cell_type": "markdown",
   "metadata": {
    "colab_type": "text",
    "id": "CdgKCtS2X_Mn"
   },
   "source": [
    "### Set your training hyperparameters!"
   ]
  },
  {
   "cell_type": "code",
   "execution_count": 22,
   "metadata": {
    "colab": {
     "base_uri": "https://localhost:8080/",
     "height": 3007
    },
    "colab_type": "code",
    "executionInfo": {
     "elapsed": 511225,
     "status": "ok",
     "timestamp": 1548585265190,
     "user": {
      "displayName": "Akah Uchechi",
      "photoUrl": "",
      "userId": "10244832384016931906"
     },
     "user_tz": -60
    },
    "id": "eqdPBajTX_Ms",
    "outputId": "c92b78cd-bb55-4fb7-9a0e-d1e72f7dcdca",
    "scrolled": true
   },
   "outputs": [
    {
     "name": "stdout",
     "output_type": "stream",
     "text": [
      "torch.Size([10, 100, 83])\t2\n",
      "Epoch: 1/1... Step: 20... Loss: 3.1727... Val Loss: 3.1403\n",
      "torch.Size([10, 100, 83])\t2\n",
      "Epoch: 1/1... Step: 40... Loss: 3.1283... Val Loss: 3.1318\n",
      "torch.Size([10, 100, 83])\t2\n",
      "Epoch: 1/1... Step: 60... Loss: 3.1219... Val Loss: 3.1340\n",
      "torch.Size([10, 100, 83])\t2\n",
      "Epoch: 1/1... Step: 80... Loss: 3.1006... Val Loss: 3.1305\n",
      "torch.Size([10, 100, 83])\t2\n",
      "Epoch: 1/1... Step: 100... Loss: 3.1020... Val Loss: 3.1276\n",
      "torch.Size([10, 100, 83])\t2\n",
      "Epoch: 1/1... Step: 120... Loss: 3.1724... Val Loss: 3.1289\n",
      "torch.Size([10, 100, 83])\t2\n",
      "Epoch: 1/1... Step: 140... Loss: 3.0333... Val Loss: 3.1279\n",
      "torch.Size([10, 100, 83])\t2\n",
      "Epoch: 1/1... Step: 160... Loss: 3.1379... Val Loss: 3.1305\n",
      "torch.Size([10, 100, 83])\t2\n",
      "Epoch: 1/1... Step: 180... Loss: 3.0675... Val Loss: 3.1267\n",
      "torch.Size([10, 100, 83])\t2\n",
      "Epoch: 1/1... Step: 200... Loss: 3.1380... Val Loss: 3.1217\n",
      "torch.Size([10, 100, 83])\t2\n",
      "Epoch: 1/1... Step: 220... Loss: 3.0812... Val Loss: 3.0646\n",
      "torch.Size([10, 100, 83])\t2\n",
      "Epoch: 1/1... Step: 240... Loss: 2.9321... Val Loss: 2.9496\n",
      "torch.Size([10, 100, 83])\t2\n",
      "Epoch: 1/1... Step: 260... Loss: 2.8121... Val Loss: 2.8201\n",
      "torch.Size([10, 100, 83])\t2\n",
      "Epoch: 1/1... Step: 280... Loss: 2.7339... Val Loss: 2.7060\n",
      "torch.Size([10, 100, 83])\t2\n",
      "Epoch: 1/1... Step: 300... Loss: 2.6853... Val Loss: 2.6054\n",
      "torch.Size([10, 100, 83])\t2\n",
      "Epoch: 1/1... Step: 320... Loss: 2.5983... Val Loss: 2.5417\n",
      "torch.Size([10, 100, 83])\t2\n",
      "Epoch: 1/1... Step: 340... Loss: 2.5536... Val Loss: 2.4907\n",
      "torch.Size([10, 100, 83])\t2\n",
      "Epoch: 1/1... Step: 360... Loss: 2.4471... Val Loss: 2.4513\n",
      "torch.Size([10, 100, 83])\t2\n",
      "Epoch: 1/1... Step: 380... Loss: 2.4248... Val Loss: 2.4269\n",
      "torch.Size([10, 100, 83])\t2\n",
      "Epoch: 1/1... Step: 400... Loss: 2.3681... Val Loss: 2.3905\n",
      "torch.Size([10, 100, 83])\t2\n",
      "Epoch: 1/1... Step: 420... Loss: 2.3428... Val Loss: 2.3589\n",
      "torch.Size([10, 100, 83])\t2\n",
      "Epoch: 1/1... Step: 440... Loss: 2.3275... Val Loss: 2.3487\n",
      "torch.Size([10, 100, 83])\t2\n",
      "Epoch: 1/1... Step: 460... Loss: 2.2795... Val Loss: 2.3133\n",
      "torch.Size([10, 100, 83])\t2\n",
      "Epoch: 1/1... Step: 480... Loss: 2.3687... Val Loss: 2.2955\n",
      "torch.Size([10, 100, 83])\t2\n",
      "Epoch: 1/1... Step: 500... Loss: 2.2606... Val Loss: 2.2770\n",
      "torch.Size([10, 100, 83])\t2\n",
      "Epoch: 1/1... Step: 520... Loss: 2.3429... Val Loss: 2.2553\n",
      "torch.Size([10, 100, 83])\t2\n",
      "Epoch: 1/1... Step: 540... Loss: 2.1775... Val Loss: 2.2416\n",
      "torch.Size([10, 100, 83])\t2\n",
      "Epoch: 1/1... Step: 560... Loss: 2.1559... Val Loss: 2.2173\n",
      "torch.Size([10, 100, 83])\t2\n",
      "Epoch: 1/1... Step: 580... Loss: 2.1374... Val Loss: 2.1945\n",
      "torch.Size([10, 100, 83])\t2\n",
      "Epoch: 1/1... Step: 600... Loss: 2.2407... Val Loss: 2.1887\n",
      "torch.Size([10, 100, 83])\t2\n",
      "Epoch: 1/1... Step: 620... Loss: 2.1292... Val Loss: 2.1666\n",
      "torch.Size([10, 100, 83])\t2\n",
      "Epoch: 1/1... Step: 640... Loss: 2.1059... Val Loss: 2.1446\n",
      "torch.Size([10, 100, 83])\t2\n",
      "Epoch: 1/1... Step: 660... Loss: 2.0958... Val Loss: 2.1323\n",
      "torch.Size([10, 100, 83])\t2\n",
      "Epoch: 1/1... Step: 680... Loss: 2.0688... Val Loss: 2.1198\n",
      "torch.Size([10, 100, 83])\t2\n",
      "Epoch: 1/1... Step: 700... Loss: 2.0948... Val Loss: 2.1039\n",
      "torch.Size([10, 100, 83])\t2\n",
      "Epoch: 1/1... Step: 720... Loss: 2.0676... Val Loss: 2.0945\n",
      "torch.Size([10, 100, 83])\t2\n",
      "Epoch: 1/1... Step: 740... Loss: 2.0586... Val Loss: 2.0646\n",
      "torch.Size([10, 100, 83])\t2\n",
      "Epoch: 1/1... Step: 760... Loss: 1.9506... Val Loss: 2.0604\n",
      "torch.Size([10, 100, 83])\t2\n",
      "Epoch: 1/1... Step: 780... Loss: 2.0609... Val Loss: 2.0388\n",
      "torch.Size([10, 100, 83])\t2\n",
      "Epoch: 1/1... Step: 800... Loss: 2.0378... Val Loss: 2.0302\n",
      "torch.Size([10, 100, 83])\t2\n",
      "Epoch: 1/1... Step: 820... Loss: 2.0533... Val Loss: 2.0141\n",
      "torch.Size([10, 100, 83])\t2\n",
      "Epoch: 1/1... Step: 840... Loss: 2.0391... Val Loss: 1.9942\n",
      "torch.Size([10, 100, 83])\t2\n",
      "Epoch: 1/1... Step: 860... Loss: 1.9929... Val Loss: 1.9846\n",
      "torch.Size([10, 100, 83])\t2\n",
      "Epoch: 1/1... Step: 880... Loss: 2.0359... Val Loss: 1.9677\n",
      "torch.Size([10, 100, 83])\t2\n",
      "Epoch: 1/1... Step: 900... Loss: 1.8660... Val Loss: 1.9548\n",
      "torch.Size([10, 100, 83])\t2\n",
      "Epoch: 1/1... Step: 920... Loss: 1.9304... Val Loss: 1.9540\n",
      "torch.Size([10, 100, 83])\t2\n",
      "Epoch: 1/1... Step: 940... Loss: 2.0165... Val Loss: 1.9357\n",
      "torch.Size([10, 100, 83])\t2\n",
      "Epoch: 1/1... Step: 960... Loss: 1.7803... Val Loss: 1.9278\n",
      "torch.Size([10, 100, 83])\t2\n",
      "Epoch: 1/1... Step: 980... Loss: 2.0594... Val Loss: 1.9155\n",
      "torch.Size([10, 100, 83])\t2\n",
      "Epoch: 1/1... Step: 1000... Loss: 1.9121... Val Loss: 1.9055\n",
      "torch.Size([10, 100, 83])\t2\n",
      "Epoch: 1/1... Step: 1020... Loss: 2.0780... Val Loss: 1.9036\n",
      "torch.Size([10, 100, 83])\t2\n",
      "Epoch: 1/1... Step: 1040... Loss: 1.8709... Val Loss: 1.8886\n",
      "torch.Size([10, 100, 83])\t2\n",
      "Epoch: 1/1... Step: 1060... Loss: 1.8344... Val Loss: 1.8783\n",
      "torch.Size([10, 100, 83])\t2\n",
      "Epoch: 1/1... Step: 1080... Loss: 1.8636... Val Loss: 1.8704\n",
      "torch.Size([10, 100, 83])\t2\n",
      "Epoch: 1/1... Step: 1100... Loss: 1.7869... Val Loss: 1.8657\n",
      "torch.Size([10, 100, 83])\t2\n",
      "Epoch: 1/1... Step: 1120... Loss: 1.8478... Val Loss: 1.8525\n",
      "torch.Size([10, 100, 83])\t2\n",
      "Epoch: 1/1... Step: 1140... Loss: 1.6516... Val Loss: 1.8345\n",
      "torch.Size([10, 100, 83])\t2\n",
      "Epoch: 1/1... Step: 1160... Loss: 1.7898... Val Loss: 1.8279\n",
      "torch.Size([10, 100, 83])\t2\n",
      "Epoch: 1/1... Step: 1180... Loss: 1.8447... Val Loss: 1.8282\n",
      "torch.Size([10, 100, 83])\t2\n",
      "Epoch: 1/1... Step: 1200... Loss: 1.7458... Val Loss: 1.8130\n",
      "torch.Size([10, 100, 83])\t2\n",
      "Epoch: 1/1... Step: 1220... Loss: 1.8037... Val Loss: 1.8086\n",
      "torch.Size([10, 100, 83])\t2\n",
      "Epoch: 1/1... Step: 1240... Loss: 1.7531... Val Loss: 1.8008\n",
      "torch.Size([10, 100, 83])\t2\n",
      "Epoch: 1/1... Step: 1260... Loss: 1.7079... Val Loss: 1.7932\n",
      "torch.Size([10, 100, 83])\t2\n",
      "Epoch: 1/1... Step: 1280... Loss: 1.7632... Val Loss: 1.7861\n",
      "torch.Size([10, 100, 83])\t2\n",
      "Epoch: 1/1... Step: 1300... Loss: 1.7547... Val Loss: 1.7803\n",
      "torch.Size([10, 100, 83])\t2\n",
      "Epoch: 1/1... Step: 1320... Loss: 1.6642... Val Loss: 1.7729\n",
      "torch.Size([10, 100, 83])\t2\n",
      "Epoch: 1/1... Step: 1340... Loss: 1.6628... Val Loss: 1.7663\n",
      "torch.Size([10, 100, 83])\t2\n",
      "Epoch: 1/1... Step: 1360... Loss: 1.7160... Val Loss: 1.7620\n",
      "torch.Size([10, 100, 83])\t2\n",
      "Epoch: 1/1... Step: 1380... Loss: 1.7435... Val Loss: 1.7576\n",
      "torch.Size([10, 100, 83])\t2\n",
      "Epoch: 1/1... Step: 1400... Loss: 1.8196... Val Loss: 1.7477\n",
      "torch.Size([10, 100, 83])\t2\n",
      "Epoch: 1/1... Step: 1420... Loss: 1.7240... Val Loss: 1.7464\n",
      "torch.Size([10, 100, 83])\t2\n",
      "Epoch: 1/1... Step: 1440... Loss: 1.7177... Val Loss: 1.7344\n",
      "torch.Size([10, 100, 83])\t2\n",
      "Epoch: 1/1... Step: 1460... Loss: 1.7496... Val Loss: 1.7305\n",
      "torch.Size([10, 100, 83])\t2\n",
      "Epoch: 1/1... Step: 1480... Loss: 1.6476... Val Loss: 1.7222\n",
      "torch.Size([10, 100, 83])\t2\n",
      "Epoch: 1/1... Step: 1500... Loss: 1.7015... Val Loss: 1.7168\n",
      "torch.Size([10, 100, 83])\t2\n",
      "Epoch: 1/1... Step: 1520... Loss: 1.7023... Val Loss: 1.7156\n",
      "torch.Size([10, 100, 83])\t2\n",
      "Epoch: 1/1... Step: 1540... Loss: 1.6372... Val Loss: 1.7061\n",
      "torch.Size([10, 100, 83])\t2\n",
      "Epoch: 1/1... Step: 1560... Loss: 1.5542... Val Loss: 1.7021\n",
      "torch.Size([10, 100, 83])\t2\n",
      "Epoch: 1/1... Step: 1580... Loss: 1.7454... Val Loss: 1.6918\n",
      "torch.Size([10, 100, 83])\t2\n",
      "Epoch: 1/1... Step: 1600... Loss: 1.6280... Val Loss: 1.6863\n",
      "torch.Size([10, 100, 83])\t2\n",
      "Epoch: 1/1... Step: 1620... Loss: 1.6156... Val Loss: 1.6859\n",
      "torch.Size([10, 100, 83])\t2\n",
      "Epoch: 1/1... Step: 1640... Loss: 1.6084... Val Loss: 1.6780\n",
      "torch.Size([10, 100, 83])\t2\n",
      "Epoch: 1/1... Step: 1660... Loss: 1.7190... Val Loss: 1.6782\n",
      "torch.Size([10, 100, 83])\t2\n",
      "Epoch: 1/1... Step: 1680... Loss: 1.6985... Val Loss: 1.6762\n",
      "torch.Size([10, 100, 83])\t2\n",
      "Epoch: 1/1... Step: 1700... Loss: 1.5376... Val Loss: 1.6669\n",
      "torch.Size([10, 100, 83])\t2\n",
      "Epoch: 1/1... Step: 1720... Loss: 1.6634... Val Loss: 1.6570\n",
      "torch.Size([10, 100, 83])\t2\n",
      "Epoch: 1/1... Step: 1740... Loss: 1.6630... Val Loss: 1.6542\n",
      "torch.Size([10, 100, 83])\t2\n",
      "Epoch: 1/1... Step: 1760... Loss: 1.6436... Val Loss: 1.6528\n",
      "torch.Size([10, 100, 83])\t2\n",
      "Epoch: 1/1... Step: 1780... Loss: 1.6643... Val Loss: 1.6490\n"
     ]
    }
   ],
   "source": [
    "batch_size = 10\n",
    "seq_length = 100\n",
    "#n_epochs = 20 # start small if you are just testing initial behavior\n",
    "n_epochs = 1\n",
    "# train the model\n",
    "train(net, encoded, epochs=n_epochs, batch_size=batch_size, seq_length=seq_length, lr=0.001, print_every=20)\n",
    "model_name = 'rnn_x_epoch.net'\n",
    "\n",
    "checkpoint = {'n_hidden': net.n_hidden,\n",
    "              'n_layers': net.n_layers,\n",
    "              'state_dict': net.state_dict(),\n",
    "              'tokens': net.chars}\n",
    "\n",
    "with open(model_name, 'wb') as f:\n",
    "    torch.save(checkpoint, f)"
   ]
  },
  {
   "cell_type": "markdown",
   "metadata": {
    "colab_type": "text",
    "id": "gUX4oo6OX_NS"
   },
   "source": [
    "## Getting the best model\n",
    "\n",
    "To set your hyperparameters to get the best performance, you'll want to watch the training and validation losses. If your training loss is much lower than the validation loss, you're overfitting. Increase regularization (more dropout) or use a smaller network. If the training and validation losses are close, you're underfitting so you can increase the size of the network."
   ]
  },
  {
   "cell_type": "markdown",
   "metadata": {
    "colab_type": "text",
    "id": "SlNCbrUeX_Na"
   },
   "source": [
    "## Hyperparameters\n",
    "\n",
    "Here are the hyperparameters for the network.\n",
    "\n",
    "In defining the model:\n",
    "* `n_hidden` - The number of units in the hidden layers.\n",
    "* `n_layers` - Number of hidden LSTM layers to use.\n",
    "\n",
    "We assume that dropout probability and learning rate will be kept at the default, in this example.\n",
    "\n",
    "And in training:\n",
    "* `batch_size` - Number of sequences running through the network in one pass.\n",
    "* `seq_length` - Number of characters in the sequence the network is trained on. Larger is better typically, the network will learn more long range dependencies. But it takes longer to train. 100 is typically a good number here.\n",
    "* `lr` - Learning rate for training\n",
    "\n",
    "Here's some good advice from Andrej Karpathy on training the network. I'm going to copy it in here for your benefit, but also link to [where it originally came from](https://github.com/karpathy/char-rnn#tips-and-tricks).\n",
    "\n",
    "> ## Tips and Tricks\n",
    "\n",
    ">### Monitoring Validation Loss vs. Training Loss\n",
    ">If you're somewhat new to Machine Learning or Neural Networks it can take a bit of expertise to get good models. The most important quantity to keep track of is the difference between your training loss (printed during training) and the validation loss (printed once in a while when the RNN is run on the validation data (by default every 1000 iterations)). In particular:\n",
    "\n",
    "> - If your training loss is much lower than validation loss then this means the network might be **overfitting**. Solutions to this are to decrease your network size, or to increase dropout. For example you could try dropout of 0.5 and so on.\n",
    "> - If your training/validation loss are about equal then your model is **underfitting**. Increase the size of your model (either number of layers or the raw number of neurons per layer)\n",
    "\n",
    "> ### Approximate number of parameters\n",
    "\n",
    "> The two most important parameters that control the model are `n_hidden` and `n_layers`. I would advise that you always use `n_layers` of either 2/3. The `n_hidden` can be adjusted based on how much data you have. The two important quantities to keep track of here are:\n",
    "\n",
    "> - The number of parameters in your model. This is printed when you start training.\n",
    "> - The size of your dataset. 1MB file is approximately 1 million characters.\n",
    "\n",
    ">These two should be about the same order of magnitude. It's a little tricky to tell. Here are some examples:\n",
    "\n",
    "> - I have a 100MB dataset and I'm using the default parameter settings (which currently print 150K parameters). My data size is significantly larger (100 mil >> 0.15 mil), so I expect to heavily underfit. I am thinking I can comfortably afford to make `n_hidden` larger.\n",
    "> - I have a 10MB dataset and running a 10 million parameter model. I'm slightly nervous and I'm carefully monitoring my validation loss. If it's larger than my training loss then I may want to try to increase dropout a bit and see if that helps the validation loss.\n",
    "\n",
    "> ### Best models strategy\n",
    "\n",
    ">The winning strategy to obtaining very good models (if you have the compute time) is to always err on making the network larger (as large as you're willing to wait for it to compute) and then try different dropout values (between 0,1). Whatever model has the best validation performance (the loss, written in the checkpoint filename, low is good) is the one you should use in the end.\n",
    "\n",
    ">It is very common in deep learning to run many different models with many different hyperparameter settings, and in the end take whatever checkpoint gave the best validation performance.\n",
    "\n",
    ">By the way, the size of your training and validation splits are also parameters. Make sure you have a decent amount of data in your validation set or otherwise the validation performance will be noisy and not very informative."
   ]
  },
  {
   "cell_type": "markdown",
   "metadata": {
    "colab_type": "text",
    "id": "UcfM584VX_Nf"
   },
   "source": [
    "## Checkpoint\n",
    "\n",
    "After training, we'll save the model so we can load it again later if we need too. Here I'm saving the parameters needed to create the same architecture, the hidden layer hyperparameters and the text characters."
   ]
  },
  {
   "cell_type": "code",
   "execution_count": 0,
   "metadata": {
    "colab": {},
    "colab_type": "code",
    "id": "qKdKFmTzX_Nl"
   },
   "outputs": [],
   "source": [
    "# change the name, for saving multiple files\n",
    "model_name = 'rnn_x_epoch.net'\n",
    "\n",
    "checkpoint = {'n_hidden': net.n_hidden,\n",
    "              'n_layers': net.n_layers,\n",
    "              'state_dict': net.state_dict(),\n",
    "              'tokens': net.chars}\n",
    "\n",
    "with open(model_name, 'wb') as f:\n",
    "    torch.save(checkpoint, f)"
   ]
  },
  {
   "cell_type": "markdown",
   "metadata": {
    "colab_type": "text",
    "id": "6G3JhrEJX_OV"
   },
   "source": [
    "---\n",
    "## Making Predictions\n",
    "\n",
    "Now that the model is trained, we'll want to sample from it and make predictions about next characters! To sample, we pass in a character and have the network predict the next character. Then we take that character, pass it back in, and get another predicted character. Just keep doing this and you'll generate a bunch of text!\n",
    "\n",
    "### A note on the `predict`  function\n",
    "\n",
    "The output of our RNN is from a fully-connected layer and it outputs a **distribution of next-character scores**.\n",
    "\n",
    "> To actually get the next character, we apply a softmax function, which gives us a *probability* distribution that we can then sample to predict the next character.\n",
    "\n",
    "### Top K sampling\n",
    "\n",
    "Our predictions come from a categorical probability distribution over all the possible characters. We can make the sample text and make it more reasonable to handle (with less variables) by only considering some $K$ most probable characters. This will prevent the network from giving us completely absurd characters while allowing it to introduce some noise and randomness into the sampled text. Read more about [topk, here](https://pytorch.org/docs/stable/torch.html#torch.topk).\n"
   ]
  },
  {
   "cell_type": "code",
   "execution_count": 0,
   "metadata": {
    "colab": {},
    "colab_type": "code",
    "id": "guAceqITX_Of"
   },
   "outputs": [],
   "source": [
    "def predict(net, char, h=None, top_k=None):\n",
    "        ''' Given a character, predict the next character.\n",
    "            Returns the predicted character and the hidden state.\n",
    "        '''\n",
    "        \n",
    "        # tensor inputs\n",
    "        x = np.array([[net.char2int[char]]])\n",
    "        x = one_hot_encode(x, len(net.chars))\n",
    "        inputs = torch.from_numpy(x)\n",
    "        \n",
    "        if(train_on_gpu):\n",
    "            inputs = inputs.cuda()\n",
    "        \n",
    "        # detach hidden state from history\n",
    "        h = tuple([each.data for each in h])\n",
    "        # get the output of the model\n",
    "        out, h = net(inputs, h)\n",
    "\n",
    "        # get the character probabilities\n",
    "        p = F.softmax(out, dim=1).data\n",
    "        if(train_on_gpu):\n",
    "            p = p.cpu() # move to cpu\n",
    "        \n",
    "        # get top characters\n",
    "        if top_k is None:\n",
    "            top_ch = np.arange(len(net.chars))\n",
    "        else:\n",
    "            p, top_ch = p.topk(top_k)\n",
    "            top_ch = top_ch.numpy().squeeze()\n",
    "        \n",
    "        # select the likely next character with some element of randomness\n",
    "        p = p.numpy().squeeze()\n",
    "        char = np.random.choice(top_ch, p=p/p.sum())\n",
    "        \n",
    "        # return the encoded value of the predicted char and the hidden state\n",
    "        return net.int2char[char], h"
   ]
  },
  {
   "cell_type": "markdown",
   "metadata": {
    "colab_type": "text",
    "id": "1tDMG4n-X_O3"
   },
   "source": [
    "### Priming and generating text \n",
    "\n",
    "Typically you'll want to prime the network so you can build up a hidden state. Otherwise the network will start out generating characters at random. In general the first bunch of characters will be a little rough since it hasn't built up a long history of characters to predict from."
   ]
  },
  {
   "cell_type": "code",
   "execution_count": 0,
   "metadata": {
    "colab": {},
    "colab_type": "code",
    "id": "QIIT_kN2X_O-"
   },
   "outputs": [],
   "source": [
    "def sample(net, size, prime='The', top_k=None):\n",
    "        \n",
    "    if(train_on_gpu):\n",
    "        net.cuda()\n",
    "    else:\n",
    "        net.cpu()\n",
    "    \n",
    "    net.eval() # eval mode\n",
    "    \n",
    "    # First off, run through the prime characters\n",
    "    chars = [ch for ch in prime]\n",
    "    h = net.init_hidden(1)\n",
    "    for ch in prime:\n",
    "        char, h = predict(net, ch, h, top_k=top_k)\n",
    "\n",
    "    chars.append(char)\n",
    "    \n",
    "    # Now pass in the previous character and get a new one\n",
    "    for ii in range(size):\n",
    "        char, h = predict(net, chars[-1], h, top_k=top_k)\n",
    "        chars.append(char)\n",
    "\n",
    "    return ''.join(chars)"
   ]
  },
  {
   "cell_type": "code",
   "execution_count": 0,
   "metadata": {
    "colab": {},
    "colab_type": "code",
    "id": "ndf365_3X_Pv"
   },
   "outputs": [],
   "source": [
    "print(sample(net, 1000, prime='Anna', top_k=5))"
   ]
  },
  {
   "cell_type": "markdown",
   "metadata": {
    "colab_type": "text",
    "id": "iyl7BMlLX_QE"
   },
   "source": [
    "## Loading a checkpoint"
   ]
  },
  {
   "cell_type": "code",
   "execution_count": 0,
   "metadata": {
    "colab": {},
    "colab_type": "code",
    "id": "cJ0TymvxX_Qf"
   },
   "outputs": [],
   "source": [
    "# Here we have loaded in a model that trained over 20 epochs `rnn_20_epoch.net`\n",
    "with open('rnn_x_epoch.net', 'rb') as f:\n",
    "    checkpoint = torch.load(f)\n",
    "    \n",
    "loaded = CharRNN(checkpoint['tokens'], n_hidden=checkpoint['n_hidden'], n_layers=checkpoint['n_layers'])\n",
    "loaded.load_state_dict(checkpoint['state_dict'])"
   ]
  },
  {
   "cell_type": "code",
   "execution_count": 27,
   "metadata": {
    "colab": {
     "base_uri": "https://localhost:8080/",
     "height": 877
    },
    "colab_type": "code",
    "executionInfo": {
     "elapsed": 2984,
     "status": "ok",
     "timestamp": 1548585483603,
     "user": {
      "displayName": "Akah Uchechi",
      "photoUrl": "",
      "userId": "10244832384016931906"
     },
     "user_tz": -60
    },
    "id": "-SZetcxtX_Q8",
    "outputId": "4cc8cf66-583f-4c08-a40c-ab6913231333"
   },
   "outputs": [
    {
     "name": "stdout",
     "output_type": "stream",
     "text": [
      "And Levin said of hume that the murserar forgiving that he had she went that had never a mad and was shat out happen and the mack were though and have been\n",
      "answing and shape, and said if her\n",
      "hands when he\n",
      "was and.\n",
      "\n",
      "\"You do you so me?\" said And,\" he said, and than as in the\n",
      "wonder\n",
      "of the manding\n",
      "with her, as is what was shill as an\n",
      "arown had to\n",
      "set her forcouted\n",
      "that the should he was beguad it.\"\n",
      "\n",
      "\"Who come all the countess of the pass and\n",
      "say a melied any make\n",
      "you than this to be muller his wife, so mush a child all the munuter of the must to be a mistice, at, to be string a sard, and stark of\n",
      "trees out oncically on a carries and should try and\n",
      "what thim so the\n",
      "come in the betination\n",
      "of\n",
      "the parsicules hant which had a belairion he had at her and herself. The compression had said asteded. Have too. \"Yut is at sont is with horrieg to she same the cannictle with the\n",
      "pailly of\n",
      "the since as a showe it should not be her has beet a strought and\n",
      "that his barl, and the from and highing wourd not sayire of\n",
      "an her. The mander.\n",
      "\n",
      "\"White talk of her friend, something had so it was and son him.\"\n",
      "\n",
      "She sometane of the carliet of him, would not a sand have that his have and stord how she said, the secritially of the puter of hope the forting.\n",
      "\n",
      "\"I wanted. It will that she had say say that the sact, and still\n",
      "be tertions, and the moncing he\n",
      "hoving a best but on\n",
      "the\n",
      "mady. \"Not as you trith her and\n",
      "the purcest that in his hanring, she had she course howed the soft and all he had said. The\n",
      "propress on starting in the leady to take her hull, and her trought and to a lay the praning and was his\n",
      "samaning\n",
      "of\n",
      "her head and head it was a shall and the from at\n",
      "the more. \"It's befone to me and that she was a sucching,\n",
      "but there's some happicing and stard of\n",
      "the bouth of\n",
      "the breash when he said, and the desith ther had but as a maryer, where he walk of the come to hid been that his beer\n",
      "of the\n",
      "pots to the mare that the sections, wat herself a side, she was high and and terrerents.\n",
      "\n",
      "\"Who had been at tell her.\"\n",
      "\n",
      "\"I\n"
     ]
    }
   ],
   "source": [
    "# Sample using a loaded model\n",
    "print(sample(loaded, 2000, top_k=5, prime=\"And Levin said\"))"
   ]
  },
  {
   "cell_type": "code",
   "execution_count": 0,
   "metadata": {
    "colab": {},
    "colab_type": "code",
    "id": "3Okmd7hpX_RO"
   },
   "outputs": [],
   "source": []
  }
 ],
 "metadata": {
  "accelerator": "GPU",
  "colab": {
   "collapsed_sections": [],
   "name": "Character_Level_RNN_Exercise.ipynb",
   "provenance": [],
   "version": "0.3.2"
  },
  "kernelspec": {
   "display_name": "Python 3",
   "language": "python",
   "name": "python3"
  },
  "language_info": {
   "codemirror_mode": {
    "name": "ipython",
    "version": 3
   },
   "file_extension": ".py",
   "mimetype": "text/x-python",
   "name": "python",
   "nbconvert_exporter": "python",
   "pygments_lexer": "ipython3",
   "version": "3.6.4"
  }
 },
 "nbformat": 4,
 "nbformat_minor": 1
}
