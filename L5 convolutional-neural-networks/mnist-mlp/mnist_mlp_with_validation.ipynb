{
 "cells": [
  {
   "cell_type": "markdown",
   "metadata": {
    "colab_type": "text",
    "id": "F2KSdEmeKiQ9"
   },
   "source": [
    "# Multi-Layer Perceptron, MNIST\n",
    "---\n",
    "In this notebook, we will train an MLP to classify images from the [MNIST database](http://yann.lecun.com/exdb/mnist/) hand-written digit database.\n",
    "\n",
    "The process will be broken down into the following steps:\n",
    ">1. Load and visualize the data\n",
    "2. Define a neural network\n",
    "3. Train the model\n",
    "4. Evaluate the performance of our trained model on a test dataset!\n",
    "\n",
    "Before we begin, we have to import the necessary libraries for working with data and PyTorch."
   ]
  },
  {
   "cell_type": "code",
   "execution_count": 0,
   "metadata": {
    "colab": {},
    "colab_type": "code",
    "id": "QgIN5Z1oKiRH"
   },
   "outputs": [],
   "source": [
    "# import libraries\n",
    "import torch\n",
    "import numpy as np"
   ]
  },
  {
   "cell_type": "markdown",
   "metadata": {
    "colab_type": "text",
    "id": "xnC0SiK6KiRY"
   },
   "source": [
    "---\n",
    "## Load and Visualize the [Data](http://pytorch.org/docs/stable/torchvision/datasets.html)\n",
    "\n",
    "Downloading may take a few moments, and you should see your progress as the data is loading. You may also choose to change the `batch_size` if you want to load more data at a time.\n",
    "\n",
    "This cell will create DataLoaders for each of our datasets."
   ]
  },
  {
   "cell_type": "code",
   "execution_count": 4,
   "metadata": {
    "colab": {
     "base_uri": "https://localhost:8080/",
     "height": 126
    },
    "colab_type": "code",
    "executionInfo": {
     "elapsed": 3312,
     "status": "ok",
     "timestamp": 1542659113576,
     "user": {
      "displayName": "Akah Uchechi",
      "photoUrl": "",
      "userId": "10244832384016931906"
     },
     "user_tz": -60
    },
    "id": "youMOJ19KiRb",
    "outputId": "84f77d40-190e-4ecc-bcb3-da8ebca39b32"
   },
   "outputs": [
    {
     "name": "stdout",
     "output_type": "stream",
     "text": [
      "Downloading http://yann.lecun.com/exdb/mnist/train-images-idx3-ubyte.gz\n",
      "Downloading http://yann.lecun.com/exdb/mnist/train-labels-idx1-ubyte.gz\n",
      "Downloading http://yann.lecun.com/exdb/mnist/t10k-images-idx3-ubyte.gz\n",
      "Downloading http://yann.lecun.com/exdb/mnist/t10k-labels-idx1-ubyte.gz\n",
      "Processing...\n",
      "Done!\n"
     ]
    }
   ],
   "source": [
    "from torchvision import datasets\n",
    "import torchvision.transforms as transforms\n",
    "from torch.utils.data.sampler import SubsetRandomSampler\n",
    "\n",
    "# number of subprocesses to use for data loading\n",
    "num_workers = 0\n",
    "# how many samples per batch to load\n",
    "batch_size = 20\n",
    "# percentage of training set to use as validation\n",
    "valid_size = 0.2\n",
    "\n",
    "# convert data to torch.FloatTensor\n",
    "transform = transforms.ToTensor()\n",
    "\n",
    "# choose the training and test datasets\n",
    "train_data = datasets.MNIST(root='data', train=True,\n",
    "                                   download=True, transform=transform)\n",
    "test_data = datasets.MNIST(root='data', train=False,\n",
    "                                  download=True, transform=transform)\n",
    "\n",
    "# obtain training indices that will be used for validation\n",
    "num_train = len(train_data)\n",
    "indices = list(range(num_train))\n",
    "np.random.shuffle(indices)\n",
    "split = int(np.floor(valid_size * num_train))\n",
    "train_idx, valid_idx = indices[split:], indices[:split]\n",
    "\n",
    "# define samplers for obtaining training and validation batches\n",
    "train_sampler = SubsetRandomSampler(train_idx)\n",
    "valid_sampler = SubsetRandomSampler(valid_idx)\n",
    "\n",
    "# prepare data loaders\n",
    "train_loader = torch.utils.data.DataLoader(train_data, batch_size=batch_size,\n",
    "    sampler=train_sampler, num_workers=num_workers)\n",
    "valid_loader = torch.utils.data.DataLoader(train_data, batch_size=batch_size, \n",
    "    sampler=valid_sampler, num_workers=num_workers)\n",
    "test_loader = torch.utils.data.DataLoader(test_data, batch_size=batch_size, \n",
    "    num_workers=num_workers)"
   ]
  },
  {
   "cell_type": "markdown",
   "metadata": {
    "colab_type": "text",
    "id": "6amZqt71KiRv"
   },
   "source": [
    "### Visualize a Batch of Training Data\n",
    "\n",
    "The first step in a classification task is to take a look at the data, make sure it is loaded in correctly, then make any initial observations about patterns in that data."
   ]
  },
  {
   "cell_type": "code",
   "execution_count": 5,
   "metadata": {
    "colab": {
     "base_uri": "https://localhost:8080/",
     "height": 284
    },
    "colab_type": "code",
    "executionInfo": {
     "elapsed": 2637,
     "status": "ok",
     "timestamp": 1542659124190,
     "user": {
      "displayName": "Akah Uchechi",
      "photoUrl": "",
      "userId": "10244832384016931906"
     },
     "user_tz": -60
    },
    "id": "AqO5nl_hKiR5",
    "outputId": "1ac13b61-7181-4e6b-8974-913dd7eafa45"
   },
   "outputs": [
    {
     "data": {
      "image/png": "[encoded data removed]",
      "text/plain": [
       "<matplotlib.figure.Figure at 0x7f650d6796a0>"
      ]
     },
     "metadata": {
      "tags": []
     },
     "output_type": "display_data"
    }
   ],
   "source": [
    "import matplotlib.pyplot as plt\n",
    "%matplotlib inline\n",
    "    \n",
    "# obtain one batch of training images\n",
    "dataiter = iter(train_loader)\n",
    "images, labels = dataiter.next()\n",
    "images = images.numpy()\n",
    "\n",
    "# plot the images in the batch, along with the corresponding labels\n",
    "fig = plt.figure(figsize=(25, 4))\n",
    "for idx in np.arange(20):\n",
    "    ax = fig.add_subplot(2, 20/2, idx+1, xticks=[], yticks=[])\n",
    "    ax.imshow(np.squeeze(images[idx]), cmap='gray')\n",
    "    # print out the correct label for each image\n",
    "    # .item() gets the value contained in a Tensor\n",
    "    ax.set_title(str(labels[idx].item()))"
   ]
  },
  {
   "cell_type": "markdown",
   "metadata": {
    "colab_type": "text",
    "id": "UKIVhVYVKiSO"
   },
   "source": [
    "### View an Image in More Detail"
   ]
  },
  {
   "cell_type": "code",
   "execution_count": 6,
   "metadata": {
    "colab": {
     "base_uri": "https://localhost:8080/",
     "height": 700
    },
    "colab_type": "code",
    "executionInfo": {
     "elapsed": 4842,
     "status": "ok",
     "timestamp": 1542659134657,
     "user": {
      "displayName": "Akah Uchechi",
      "photoUrl": "",
      "userId": "10244832384016931906"
     },
     "user_tz": -60
    },
    "id": "QaVHj0ORKiSX",
    "outputId": "8be5f263-fae8-481e-c4e7-039e712f0fbe"
   },
   "outputs": [
    {
     "data": {
      "image/png": "[encoded data removed]",
      "text/plain": [
       "<matplotlib.figure.Figure at 0x7f64de71a5f8>"
      ]
     },
     "metadata": {
      "tags": []
     },
     "output_type": "display_data"
    }
   ],
   "source": [
    "img = np.squeeze(images[1])\n",
    "\n",
    "fig = plt.figure(figsize = (12,12)) \n",
    "ax = fig.add_subplot(111)\n",
    "ax.imshow(img, cmap='gray')\n",
    "width, height = img.shape\n",
    "thresh = img.max()/2.5\n",
    "for x in range(width):\n",
    "    for y in range(height):\n",
    "        val = round(img[x][y],2) if img[x][y] !=0 else 0\n",
    "        ax.annotate(str(val), xy=(y,x),\n",
    "                    horizontalalignment='center',\n",
    "                    verticalalignment='center',\n",
    "                    color='white' if img[x][y]<thresh else 'black')"
   ]
  },
  {
   "cell_type": "markdown",
   "metadata": {
    "colab_type": "text",
    "id": "S12SB2eeKiSu"
   },
   "source": [
    "---\n",
    "## Define the Network [Architecture](http://pytorch.org/docs/stable/nn.html)\n",
    "\n",
    "The architecture will be responsible for seeing as input a 784-dim Tensor of pixel values for each image, and producing a Tensor of length 10 (our number of classes) that indicates the class scores for an input image. This particular example uses two hidden layers and dropout to avoid overfitting."
   ]
  },
  {
   "cell_type": "code",
   "execution_count": 7,
   "metadata": {
    "colab": {
     "base_uri": "https://localhost:8080/",
     "height": 126
    },
    "colab_type": "code",
    "executionInfo": {
     "elapsed": 1452,
     "status": "ok",
     "timestamp": 1542659142361,
     "user": {
      "displayName": "Akah Uchechi",
      "photoUrl": "",
      "userId": "10244832384016931906"
     },
     "user_tz": -60
    },
    "id": "RDolz3hXKiSz",
    "outputId": "93ce4f32-1205-43a4-bfbe-b36d4aa583ef"
   },
   "outputs": [
    {
     "name": "stdout",
     "output_type": "stream",
     "text": [
      "Net(\n",
      "  (fc1): Linear(in_features=784, out_features=512, bias=True)\n",
      "  (fc2): Linear(in_features=512, out_features=512, bias=True)\n",
      "  (fc3): Linear(in_features=512, out_features=10, bias=True)\n",
      "  (dropout): Dropout(p=0.2)\n",
      ")\n"
     ]
    }
   ],
   "source": [
    "import torch.nn as nn\n",
    "import torch.nn.functional as F\n",
    "\n",
    "# define the NN architecture\n",
    "class Net(nn.Module):\n",
    "    def __init__(self):\n",
    "        super(Net, self).__init__()\n",
    "        # number of hidden nodes in each layer (512)\n",
    "        hidden_1 = 512\n",
    "        hidden_2 = 512\n",
    "        # linear layer (784 -> hidden_1)\n",
    "        self.fc1 = nn.Linear(28 * 28, hidden_1)\n",
    "        # linear layer (n_hidden -> hidden_2)\n",
    "        self.fc2 = nn.Linear(hidden_1, hidden_2)\n",
    "        # linear layer (n_hidden -> 10)\n",
    "        self.fc3 = nn.Linear(hidden_2, 10)\n",
    "        # dropout layer (p=0.2)\n",
    "        # dropout prevents overfitting of data\n",
    "        self.dropout = nn.Dropout(0.2)\n",
    "\n",
    "    def forward(self, x):\n",
    "        # flatten image input\n",
    "        x = x.view(-1, 28 * 28)\n",
    "        # add hidden layer, with relu activation function\n",
    "        x = F.relu(self.fc1(x))\n",
    "        # add dropout layer\n",
    "        x = self.dropout(x)\n",
    "        # add hidden layer, with relu activation function\n",
    "        x = F.relu(self.fc2(x))\n",
    "        # add dropout layer\n",
    "        x = self.dropout(x)\n",
    "        # add output layer\n",
    "        x = self.fc3(x)\n",
    "        return x\n",
    "\n",
    "# initialize the NN\n",
    "model = Net()\n",
    "print(model)"
   ]
  },
  {
   "cell_type": "markdown",
   "metadata": {
    "colab_type": "text",
    "id": "vbhQXGEUKiTg"
   },
   "source": [
    "###  Specify [Loss Function](http://pytorch.org/docs/stable/nn.html#loss-functions) and [Optimizer](http://pytorch.org/docs/stable/optim.html)\n",
    "\n",
    "It's recommended that you use cross-entropy loss for classification. If you look at the documentation (linked above), you can see that PyTorch's cross entropy function applies a softmax funtion to the output layer *and* then calculates the log loss."
   ]
  },
  {
   "cell_type": "code",
   "execution_count": 0,
   "metadata": {
    "colab": {},
    "colab_type": "code",
    "id": "YGttqu7VKiTv"
   },
   "outputs": [],
   "source": [
    "# specify loss function (categorical cross-entropy)\n",
    "criterion = nn.CrossEntropyLoss()\n",
    "\n",
    "# specify optimizer (stochastic gradient descent) and learning rate = 0.01\n",
    "optimizer = torch.optim.SGD(model.parameters(), lr=0.01)"
   ]
  },
  {
   "cell_type": "markdown",
   "metadata": {
    "colab_type": "text",
    "id": "g7FMguHwKiUM"
   },
   "source": [
    "---\n",
    "## Train the Network\n",
    "\n",
    "The steps for training/learning from a batch of data are described in the comments below:\n",
    "1. Clear the gradients of all optimized variables\n",
    "2. Forward pass: compute predicted outputs by passing inputs to the model\n",
    "3. Calculate the loss\n",
    "4. Backward pass: compute gradient of the loss with respect to model parameters\n",
    "5. Perform a single optimization step (parameter update)\n",
    "6. Update average training loss\n",
    "\n",
    "The following loop trains for 50 epochs; take a look at how the values for the training loss decrease over time. We want it to decrease while also avoiding overfitting the training data."
   ]
  },
  {
   "cell_type": "code",
   "execution_count": 9,
   "metadata": {
    "colab": {
     "base_uri": "https://localhost:8080/",
     "height": 1545
    },
    "colab_type": "code",
    "executionInfo": {
     "elapsed": 739,
     "status": "ok",
     "timestamp": 1542660460633,
     "user": {
      "displayName": "Akah Uchechi",
      "photoUrl": "",
      "userId": "10244832384016931906"
     },
     "user_tz": -60
    },
    "id": "npBLyX_YKiUP",
    "outputId": "2a87b2f1-b61a-4ff1-b661-ed933d466319"
   },
   "outputs": [
    {
     "name": "stdout",
     "output_type": "stream",
     "text": [
      "Epoch: 1 \tTraining Loss: 0.754762 \tValidation Loss: 0.073760\n",
      "Validation loss decreased (inf --> 0.073760).  Saving model ...\n",
      "Epoch: 2 \tTraining Loss: 0.285460 \tValidation Loss: 0.056986\n",
      "Validation loss decreased (0.073760 --> 0.056986).  Saving model ...\n",
      "Epoch: 3 \tTraining Loss: 0.225122 \tValidation Loss: 0.046012\n",
      "Validation loss decreased (0.056986 --> 0.046012).  Saving model ...\n",
      "Epoch: 4 \tTraining Loss: 0.186578 \tValidation Loss: 0.039344\n",
      "Validation loss decreased (0.046012 --> 0.039344).  Saving model ...\n",
      "Epoch: 5 \tTraining Loss: 0.158536 \tValidation Loss: 0.034231\n",
      "Validation loss decreased (0.039344 --> 0.034231).  Saving model ...\n",
      "Epoch: 6 \tTraining Loss: 0.138051 \tValidation Loss: 0.030516\n",
      "Validation loss decreased (0.034231 --> 0.030516).  Saving model ...\n",
      "Epoch: 7 \tTraining Loss: 0.122236 \tValidation Loss: 0.027836\n",
      "Validation loss decreased (0.030516 --> 0.027836).  Saving model ...\n",
      "Epoch: 8 \tTraining Loss: 0.108917 \tValidation Loss: 0.025249\n",
      "Validation loss decreased (0.027836 --> 0.025249).  Saving model ...\n",
      "Epoch: 9 \tTraining Loss: 0.097722 \tValidation Loss: 0.024056\n",
      "Validation loss decreased (0.025249 --> 0.024056).  Saving model ...\n",
      "Epoch: 10 \tTraining Loss: 0.088713 \tValidation Loss: 0.021651\n",
      "Validation loss decreased (0.024056 --> 0.021651).  Saving model ...\n",
      "Epoch: 11 \tTraining Loss: 0.080994 \tValidation Loss: 0.020414\n",
      "Validation loss decreased (0.021651 --> 0.020414).  Saving model ...\n",
      "Epoch: 12 \tTraining Loss: 0.073815 \tValidation Loss: 0.019356\n",
      "Validation loss decreased (0.020414 --> 0.019356).  Saving model ...\n",
      "Epoch: 13 \tTraining Loss: 0.068044 \tValidation Loss: 0.018134\n",
      "Validation loss decreased (0.019356 --> 0.018134).  Saving model ...\n",
      "Epoch: 14 \tTraining Loss: 0.063206 \tValidation Loss: 0.017835\n",
      "Validation loss decreased (0.018134 --> 0.017835).  Saving model ...\n",
      "Epoch: 15 \tTraining Loss: 0.058739 \tValidation Loss: 0.017206\n",
      "Validation loss decreased (0.017835 --> 0.017206).  Saving model ...\n",
      "Epoch: 16 \tTraining Loss: 0.056128 \tValidation Loss: 0.016661\n",
      "Validation loss decreased (0.017206 --> 0.016661).  Saving model ...\n",
      "Epoch: 17 \tTraining Loss: 0.052250 \tValidation Loss: 0.016157\n",
      "Validation loss decreased (0.016661 --> 0.016157).  Saving model ...\n",
      "Epoch: 18 \tTraining Loss: 0.048930 \tValidation Loss: 0.015445\n",
      "Validation loss decreased (0.016157 --> 0.015445).  Saving model ...\n",
      "Epoch: 19 \tTraining Loss: 0.044625 \tValidation Loss: 0.015223\n",
      "Validation loss decreased (0.015445 --> 0.015223).  Saving model ...\n",
      "Epoch: 20 \tTraining Loss: 0.042919 \tValidation Loss: 0.015281\n",
      "Epoch: 21 \tTraining Loss: 0.040194 \tValidation Loss: 0.014398\n",
      "Validation loss decreased (0.015223 --> 0.014398).  Saving model ...\n",
      "Epoch: 22 \tTraining Loss: 0.038615 \tValidation Loss: 0.014237\n",
      "Validation loss decreased (0.014398 --> 0.014237).  Saving model ...\n",
      "Epoch: 23 \tTraining Loss: 0.035430 \tValidation Loss: 0.014029\n",
      "Validation loss decreased (0.014237 --> 0.014029).  Saving model ...\n",
      "Epoch: 24 \tTraining Loss: 0.033873 \tValidation Loss: 0.013741\n",
      "Validation loss decreased (0.014029 --> 0.013741).  Saving model ...\n",
      "Epoch: 25 \tTraining Loss: 0.032143 \tValidation Loss: 0.013622\n",
      "Validation loss decreased (0.013741 --> 0.013622).  Saving model ...\n",
      "Epoch: 26 \tTraining Loss: 0.029831 \tValidation Loss: 0.013506\n",
      "Validation loss decreased (0.013622 --> 0.013506).  Saving model ...\n",
      "Epoch: 27 \tTraining Loss: 0.027945 \tValidation Loss: 0.013514\n",
      "Epoch: 28 \tTraining Loss: 0.026970 \tValidation Loss: 0.013445\n",
      "Validation loss decreased (0.013506 --> 0.013445).  Saving model ...\n",
      "Epoch: 29 \tTraining Loss: 0.025775 \tValidation Loss: 0.013325\n",
      "Validation loss decreased (0.013445 --> 0.013325).  Saving model ...\n",
      "Epoch: 30 \tTraining Loss: 0.024970 \tValidation Loss: 0.013769\n",
      "Epoch: 31 \tTraining Loss: 0.023528 \tValidation Loss: 0.012999\n",
      "Validation loss decreased (0.013325 --> 0.012999).  Saving model ...\n",
      "Epoch: 32 \tTraining Loss: 0.022564 \tValidation Loss: 0.013233\n",
      "Epoch: 33 \tTraining Loss: 0.021420 \tValidation Loss: 0.013147\n",
      "Epoch: 34 \tTraining Loss: 0.020064 \tValidation Loss: 0.012921\n",
      "Validation loss decreased (0.012999 --> 0.012921).  Saving model ...\n",
      "Epoch: 35 \tTraining Loss: 0.019746 \tValidation Loss: 0.013030\n",
      "Epoch: 36 \tTraining Loss: 0.018568 \tValidation Loss: 0.012902\n",
      "Validation loss decreased (0.012921 --> 0.012902).  Saving model ...\n",
      "Epoch: 37 \tTraining Loss: 0.017421 \tValidation Loss: 0.012800\n",
      "Validation loss decreased (0.012902 --> 0.012800).  Saving model ...\n",
      "Epoch: 38 \tTraining Loss: 0.016875 \tValidation Loss: 0.012777\n",
      "Validation loss decreased (0.012800 --> 0.012777).  Saving model ...\n",
      "Epoch: 39 \tTraining Loss: 0.015934 \tValidation Loss: 0.012747\n",
      "Validation loss decreased (0.012777 --> 0.012747).  Saving model ...\n",
      "Epoch: 40 \tTraining Loss: 0.015087 \tValidation Loss: 0.012862\n",
      "Epoch: 41 \tTraining Loss: 0.015268 \tValidation Loss: 0.012873\n",
      "Epoch: 42 \tTraining Loss: 0.014415 \tValidation Loss: 0.012797\n",
      "Epoch: 43 \tTraining Loss: 0.014385 \tValidation Loss: 0.012709\n",
      "Validation loss decreased (0.012747 --> 0.012709).  Saving model ...\n",
      "Epoch: 44 \tTraining Loss: 0.013579 \tValidation Loss: 0.013487\n",
      "Epoch: 45 \tTraining Loss: 0.012689 \tValidation Loss: 0.012810\n",
      "Epoch: 46 \tTraining Loss: 0.012117 \tValidation Loss: 0.012854\n",
      "Epoch: 47 \tTraining Loss: 0.011064 \tValidation Loss: 0.013044\n",
      "Epoch: 48 \tTraining Loss: 0.011063 \tValidation Loss: 0.012908\n",
      "Epoch: 49 \tTraining Loss: 0.011618 \tValidation Loss: 0.012801\n",
      "Epoch: 50 \tTraining Loss: 0.010599 \tValidation Loss: 0.012747\n"
     ]
    }
   ],
   "source": [
    "# number of epochs to train the model\n",
    "n_epochs = 50\n",
    "\n",
    "# initialize tracker for minimum validation loss\n",
    "valid_loss_min = np.Inf # set initial \"min\" to infinity\n",
    "\n",
    "for epoch in range(n_epochs):\n",
    "    # monitor training loss\n",
    "    train_loss = 0.0\n",
    "    valid_loss = 0.0\n",
    "    \n",
    "    ###################\n",
    "    # train the model #\n",
    "    ###################\n",
    "    model.train() # prep model for training\n",
    "    for data, target in train_loader:\n",
    "        # clear the gradients of all optimized variables\n",
    "        optimizer.zero_grad()\n",
    "        # forward pass: compute predicted outputs by passing inputs to the model\n",
    "        output = model(data)\n",
    "        # calculate the loss\n",
    "        loss = criterion(output, target)\n",
    "        # backward pass: compute gradient of the loss with respect to model parameters\n",
    "        loss.backward()\n",
    "        # perform a single optimization step (parameter update)\n",
    "        optimizer.step()\n",
    "        # update running training loss\n",
    "        train_loss += loss.item()*data.size(0)\n",
    "        \n",
    "    ######################    \n",
    "    # validate the model #\n",
    "    ######################\n",
    "    model.eval() # prep model for evaluation\n",
    "    for data, target in valid_loader:\n",
    "        # forward pass: compute predicted outputs by passing inputs to the model\n",
    "        output = model(data)\n",
    "        # calculate the loss\n",
    "        loss = criterion(output, target)\n",
    "        # update running validation loss \n",
    "        valid_loss += loss.item()*data.size(0)\n",
    "        \n",
    "    # print training/validation statistics \n",
    "    # calculate average loss over an epoch\n",
    "    train_loss = train_loss/len(train_loader.dataset)\n",
    "    valid_loss = valid_loss/len(valid_loader.dataset)\n",
    "    \n",
    "    print('Epoch: {} \\tTraining Loss: {:.6f} \\tValidation Loss: {:.6f}'.format(\n",
    "        epoch+1, \n",
    "        train_loss,\n",
    "        valid_loss\n",
    "        ))\n",
    "    \n",
    "    # save model if validation loss has decreased\n",
    "    if valid_loss <= valid_loss_min:\n",
    "        print('Validation loss decreased ({:.6f} --> {:.6f}).  Saving model ...'.format(\n",
    "        valid_loss_min,\n",
    "        valid_loss))\n",
    "        torch.save(model.state_dict(), 'model.pt')\n",
    "        valid_loss_min = valid_loss"
   ]
  },
  {
   "cell_type": "markdown",
   "metadata": {
    "colab_type": "text",
    "id": "n-hjftOkKiUt"
   },
   "source": [
    "###  Load the Model with the Lowest Validation Loss"
   ]
  },
  {
   "cell_type": "code",
   "execution_count": 0,
   "metadata": {
    "colab": {},
    "colab_type": "code",
    "id": "qixfkhO2KiUw"
   },
   "outputs": [],
   "source": [
    "model.load_state_dict(torch.load('model.pt'))"
   ]
  },
  {
   "cell_type": "markdown",
   "metadata": {
    "colab_type": "text",
    "id": "fqMDJ_goKiVL"
   },
   "source": [
    "---\n",
    "## Test the Trained Network\n",
    "\n",
    "Finally, we test our best model on previously unseen **test data** and evaluate it's performance. Testing on unseen data is a good way to check that our model generalizes well. It may also be useful to be granular in this analysis and take a look at how this model performs on each class as well as looking at its overall loss and accuracy."
   ]
  },
  {
   "cell_type": "code",
   "execution_count": 12,
   "metadata": {
    "colab": {
     "base_uri": "https://localhost:8080/",
     "height": 272
    },
    "colab_type": "code",
    "executionInfo": {
     "elapsed": 2034,
     "status": "ok",
     "timestamp": 1542660481020,
     "user": {
      "displayName": "Akah Uchechi",
      "photoUrl": "",
      "userId": "10244832384016931906"
     },
     "user_tz": -60
    },
    "id": "3ymObukpKiVW",
    "outputId": "0607b5a3-c44f-4b45-e33d-73ba463bfd47"
   },
   "outputs": [
    {
     "name": "stdout",
     "output_type": "stream",
     "text": [
      "Test Loss: 0.059024\n",
      "\n",
      "Test Accuracy of     0: 99% (971/980)\n",
      "Test Accuracy of     1: 99% (1124/1135)\n",
      "Test Accuracy of     2: 97% (1008/1032)\n",
      "Test Accuracy of     3: 98% (993/1010)\n",
      "Test Accuracy of     4: 98% (964/982)\n",
      "Test Accuracy of     5: 98% (876/892)\n",
      "Test Accuracy of     6: 98% (941/958)\n",
      "Test Accuracy of     7: 97% (1003/1028)\n",
      "Test Accuracy of     8: 97% (951/974)\n",
      "Test Accuracy of     9: 98% (990/1009)\n",
      "\n",
      "Test Accuracy (Overall): 98% (9821/10000)\n"
     ]
    }
   ],
   "source": [
    "# initialize lists to monitor test loss and accuracy\n",
    "test_loss = 0.0\n",
    "class_correct = list(0. for i in range(10))\n",
    "class_total = list(0. for i in range(10))\n",
    "\n",
    "model.eval() # prep model for evaluation\n",
    "\n",
    "for data, target in test_loader:\n",
    "    # forward pass: compute predicted outputs by passing inputs to the model\n",
    "    output = model(data)\n",
    "    # calculate the loss\n",
    "    loss = criterion(output, target)\n",
    "    # update test loss \n",
    "    test_loss += loss.item()*data.size(0)\n",
    "    # convert output probabilities to predicted class\n",
    "    _, pred = torch.max(output, 1)\n",
    "    # compare predictions to true label\n",
    "    correct = np.squeeze(pred.eq(target.data.view_as(pred)))\n",
    "    # calculate test accuracy for each object class\n",
    "    for i in range(batch_size):\n",
    "        label = target.data[i]\n",
    "        class_correct[label] += correct[i].item()\n",
    "        class_total[label] += 1\n",
    "\n",
    "# calculate and print avg test loss\n",
    "test_loss = test_loss/len(test_loader.dataset)\n",
    "print('Test Loss: {:.6f}\\n'.format(test_loss))\n",
    "\n",
    "for i in range(10):\n",
    "    if class_total[i] > 0:\n",
    "        print('Test Accuracy of %5s: %2d%% (%2d/%2d)' % (\n",
    "            str(i), 100 * class_correct[i] / class_total[i],\n",
    "            np.sum(class_correct[i]), np.sum(class_total[i])))\n",
    "    else:\n",
    "        print('Test Accuracy of %5s: N/A (no training examples)' % (classes[i]))\n",
    "\n",
    "print('\\nTest Accuracy (Overall): %2d%% (%2d/%2d)' % (\n",
    "    100. * np.sum(class_correct) / np.sum(class_total),\n",
    "    np.sum(class_correct), np.sum(class_total)))"
   ]
  },
  {
   "cell_type": "markdown",
   "metadata": {
    "colab_type": "text",
    "id": "CwaNsnCQKiV6"
   },
   "source": [
    "### Visualize Sample Test Results\n",
    "\n",
    "This cell displays test images and their labels in this format: `predicted (ground-truth)`. The text will be green for accurately classified examples and red for incorrect predictions."
   ]
  },
  {
   "cell_type": "code",
   "execution_count": 13,
   "metadata": {
    "colab": {
     "base_uri": "https://localhost:8080/",
     "height": 284
    },
    "colab_type": "code",
    "executionInfo": {
     "elapsed": 3248,
     "status": "ok",
     "timestamp": 1542662046835,
     "user": {
      "displayName": "Akah Uchechi",
      "photoUrl": "",
      "userId": "10244832384016931906"
     },
     "user_tz": -60
    },
    "id": "UX34M2hZKiWH",
    "outputId": "92edbe61-e78f-460f-bbed-f0aa360bd8c1"
   },
   "outputs": [
    {
     "data": {
      "image/png": "[encoded data removed]",
      "text/plain": [
       "<matplotlib.figure.Figure at 0x7f64de608198>"
      ]
     },
     "metadata": {
      "tags": []
     },
     "output_type": "display_data"
    }
   ],
   "source": [
    "# obtain one batch of test images\n",
    "dataiter = iter(test_loader)\n",
    "images, labels = dataiter.next()\n",
    "\n",
    "# get sample outputs\n",
    "output = model(images)\n",
    "# convert output probabilities to predicted class\n",
    "_, preds = torch.max(output, 1)\n",
    "# prep images for display\n",
    "images = images.numpy()\n",
    "\n",
    "# plot the images in the batch, along with predicted and true labels\n",
    "fig = plt.figure(figsize=(25, 4))\n",
    "for idx in np.arange(20):\n",
    "    ax = fig.add_subplot(2, 20/2, idx+1, xticks=[], yticks=[])\n",
    "    ax.imshow(np.squeeze(images[idx]), cmap='gray')\n",
    "    ax.set_title(\"{} ({})\".format(str(preds[idx].item()), str(labels[idx].item())),\n",
    "                 color=(\"green\" if preds[idx]==labels[idx] else \"red\"))"
   ]
  },
  {
   "cell_type": "code",
   "execution_count": 0,
   "metadata": {
    "colab": {},
    "colab_type": "code",
    "id": "hdRwSK_MKiWX"
   },
   "outputs": [],
   "source": []
  }
 ],
 "metadata": {
  "colab": {
   "name": "mnist_mlp_solution_with_validation.ipynb",
   "provenance": [],
   "version": "0.3.2"
  },
  "kernelspec": {
   "display_name": "Python 3",
   "language": "python",
   "name": "python3"
  },
  "language_info": {
   "codemirror_mode": {
    "name": "ipython",
    "version": 3
   },
   "file_extension": ".py",
   "mimetype": "text/x-python",
   "name": "python",
   "nbconvert_exporter": "python",
   "pygments_lexer": "ipython3",
   "version": "3.6.4"
  }
 },
 "nbformat": 4,
 "nbformat_minor": 1
}
